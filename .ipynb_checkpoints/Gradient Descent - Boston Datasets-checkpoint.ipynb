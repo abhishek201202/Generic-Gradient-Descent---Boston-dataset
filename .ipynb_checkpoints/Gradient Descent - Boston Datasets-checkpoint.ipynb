{
 "cells": [
  {
   "cell_type": "code",
   "execution_count": 1,
   "metadata": {},
   "outputs": [
    {
     "ename": "AttributeError",
     "evalue": "module 'numpy' has no attribute 'loadfromtxt'",
     "output_type": "error",
     "traceback": [
      "\u001b[1;31m---------------------------------------------------------------------------\u001b[0m",
      "\u001b[1;31mAttributeError\u001b[0m                            Traceback (most recent call last)",
      "\u001b[1;32m<ipython-input-1-01c2517ff125>\u001b[0m in \u001b[0;36m<module>\u001b[1;34m\u001b[0m\n\u001b[0;32m      3\u001b[0m \u001b[1;32mfrom\u001b[0m \u001b[0msklearn\u001b[0m \u001b[1;32mimport\u001b[0m \u001b[0mpreprocessing\u001b[0m \u001b[1;32mas\u001b[0m \u001b[0mp\u001b[0m\u001b[1;33m\u001b[0m\u001b[1;33m\u001b[0m\u001b[0m\n\u001b[0;32m      4\u001b[0m \u001b[1;31m#import MinMaxScaler as mms\u001b[0m\u001b[1;33m\u001b[0m\u001b[1;33m\u001b[0m\u001b[1;33m\u001b[0m\u001b[0m\n\u001b[1;32m----> 5\u001b[1;33m \u001b[0mdatatrain\u001b[0m\u001b[1;33m=\u001b[0m\u001b[0mnp\u001b[0m\u001b[1;33m.\u001b[0m\u001b[0mloadfromtxt\u001b[0m\u001b[1;33m(\u001b[0m\u001b[1;34m\"000000000000gradient_training_boston_x_y_train.csv\"\u001b[0m\u001b[1;33m,\u001b[0m\u001b[0mdelimiter\u001b[0m\u001b[1;33m=\u001b[0m\u001b[1;34m\",\"\u001b[0m\u001b[1;33m)\u001b[0m\u001b[1;33m\u001b[0m\u001b[1;33m\u001b[0m\u001b[0m\n\u001b[0m\u001b[0;32m      6\u001b[0m \u001b[0mprint\u001b[0m\u001b[1;33m(\u001b[0m\u001b[0mdatatrain\u001b[0m\u001b[1;33m.\u001b[0m\u001b[0mshape\u001b[0m\u001b[1;33m)\u001b[0m\u001b[1;33m\u001b[0m\u001b[1;33m\u001b[0m\u001b[0m\n\u001b[0;32m      7\u001b[0m \u001b[1;31m#x_test=pd.DataFrame(datatrain[:,0:13])\u001b[0m\u001b[1;33m\u001b[0m\u001b[1;33m\u001b[0m\u001b[1;33m\u001b[0m\u001b[0m\n",
      "\u001b[1;32m~\\anaconda3\\lib\\site-packages\\numpy\\__init__.py\u001b[0m in \u001b[0;36m__getattr__\u001b[1;34m(attr)\u001b[0m\n\u001b[0;32m    218\u001b[0m             \u001b[1;32melse\u001b[0m\u001b[1;33m:\u001b[0m\u001b[1;33m\u001b[0m\u001b[1;33m\u001b[0m\u001b[0m\n\u001b[0;32m    219\u001b[0m                 raise AttributeError(\"module {!r} has no attribute \"\n\u001b[1;32m--> 220\u001b[1;33m                                      \"{!r}\".format(__name__, attr))\n\u001b[0m\u001b[0;32m    221\u001b[0m \u001b[1;33m\u001b[0m\u001b[0m\n\u001b[0;32m    222\u001b[0m         \u001b[1;32mdef\u001b[0m \u001b[0m__dir__\u001b[0m\u001b[1;33m(\u001b[0m\u001b[1;33m)\u001b[0m\u001b[1;33m:\u001b[0m\u001b[1;33m\u001b[0m\u001b[1;33m\u001b[0m\u001b[0m\n",
      "\u001b[1;31mAttributeError\u001b[0m: module 'numpy' has no attribute 'loadfromtxt'"
     ]
    }
   ],
   "source": [
    "import numpy as np\n",
    "import pandas as pd\n",
    "from sklearn import preprocessing as p\n",
    "#import MinMaxScaler as mms\n",
    "datatrain=np.loadfromtxt(\"000000000000gradient_training_boston_x_y_train.csv\",delimiter=\",\")\n",
    "print(datatrain.shape)\n",
    "#x_test=pd.DataFrame(datatrain[:,0:13])\n",
    "#x_test\n",
    "x_test=np.genfromtxt(\"000000000000gradient_test_boston_x_test.csv\",delimiter=\",\")\n",
    "x_test.shape"
   ]
  },
  {
   "cell_type": "code",
   "execution_count": 4,
   "metadata": {},
   "outputs": [],
   "source": [
    "x_train=datatrain[:,0:13]\n",
    "y_train=datatrain[:,13]"
   ]
  },
  {
   "cell_type": "code",
   "execution_count": 5,
   "metadata": {},
   "outputs": [
    {
     "data": {
      "text/plain": [
       "array([14.10404201, 27.58491599, 15.18682301, 21.55202989, 21.55749741,\n",
       "       11.90203099, 29.88542755, 25.87790229, 17.92417059, 22.08879502,\n",
       "       24.78503117, 16.39123741, 19.06332309, 20.52529552, 52.20110463,\n",
       "       20.32827815, 23.96295756, 22.01220198, 18.20035694, 30.37468913,\n",
       "       20.61058468, 21.66495169, 36.68989209, 31.26175458, 33.34298321,\n",
       "       16.62270166, 21.3748914 , 31.15578092, 20.03333881, 28.63142168,\n",
       "       17.50786961, 24.84039669, 20.09502936, 21.90596795,  8.07557887,\n",
       "       23.97431862, 23.79354367, 20.73239353, 23.45286391,  8.12525756,\n",
       "       15.58429313, 22.82592272, 23.83784408, 19.76578909, 22.74813213,\n",
       "       10.31842327, 43.38508246, 24.25639248, 35.38287769, 13.34091173,\n",
       "       12.90673066, 46.09324813, 13.18232538, 20.17677993, 16.74937664,\n",
       "       19.56087767, 18.60432101, 22.47920165, 13.36314202, 15.61246259,\n",
       "       12.48595432, 26.77516912, 22.35865787, 23.81653181, 14.29454662,\n",
       "       15.68874195, 34.27011984, 10.46767044, 20.7971047 , 20.56942899,\n",
       "       26.3129817 , 20.96435303, 16.66383498,  7.94101995, 39.83818644,\n",
       "       22.67861429, 25.41872842, 25.41873352, 10.99591796, 31.91502646,\n",
       "       21.38957012, 21.22112066, 20.58462583, 18.00239493, 16.43710103,\n",
       "       36.62667391, 25.91223224,  9.8312543 , 21.62935241, 16.07833725,\n",
       "       21.54662455, 18.80751629, 17.76300084,  7.97614688, 20.99218687,\n",
       "       22.78380207, 47.71714733, 19.05629277, 36.6475942 , 23.15705367,\n",
       "       23.61561332, 20.60652806, 20.50233059, 25.64526108, 13.65303561,\n",
       "       25.41945346, 20.70176597, 45.53763908, 22.78515413, 12.42549023,\n",
       "       21.75321528, 19.0442112 , 18.02435963, 17.7343071 , 43.38912154,\n",
       "       17.07345426, 20.6015788 , 26.05800494, 20.90158518, 17.17893607,\n",
       "       12.25467829, 33.53190514, 21.28348691, 21.68159788, 21.90214538,\n",
       "       20.45341403, 16.32470137])"
      ]
     },
     "execution_count": 5,
     "metadata": {},
     "output_type": "execute_result"
    }
   ],
   "source": [
    "from sklearn.ensemble import GradientBoostingRegressor\n",
    "clf = GradientBoostingRegressor(n_estimators=4300)\n",
    "clf.fit(x_train,y_train)\n",
    "y_pred = clf.predict(x_test)\n",
    "y_pred"
   ]
  },
  {
   "cell_type": "code",
   "execution_count": 6,
   "metadata": {},
   "outputs": [],
   "source": [
    "np.savetxt('Prediction_boston.csv',y_pred,fmt='%0.8f')"
   ]
  }
 ],
 "metadata": {
  "kernelspec": {
   "display_name": "Python 3",
   "language": "python",
   "name": "python3"
  },
  "language_info": {
   "codemirror_mode": {
    "name": "ipython",
    "version": 3
   },
   "file_extension": ".py",
   "mimetype": "text/x-python",
   "name": "python",
   "nbconvert_exporter": "python",
   "pygments_lexer": "ipython3",
   "version": "3.7.6"
  }
 },
 "nbformat": 4,
 "nbformat_minor": 2
}
